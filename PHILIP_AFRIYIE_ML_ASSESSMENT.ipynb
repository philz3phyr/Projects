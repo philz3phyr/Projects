{
  "nbformat": 4,
  "nbformat_minor": 0,
  "metadata": {
    "colab": {
      "provenance": [],
      "gpuType": "T4",
      "authorship_tag": "ABX9TyNFWmfIscZISvViH38Xc5sD",
      "include_colab_link": true
    },
    "kernelspec": {
      "name": "python3",
      "display_name": "Python 3"
    },
    "language_info": {
      "name": "python"
    },
    "accelerator": "GPU"
  },
  "cells": [
    {
      "cell_type": "markdown",
      "metadata": {
        "id": "view-in-github",
        "colab_type": "text"
      },
      "source": [
        "<a href=\"https://colab.research.google.com/github/philz3phyr/Projects/blob/main/PHILIP_AFRIYIE_ML_ASSESSMENT.ipynb\" target=\"_parent\"><img src=\"https://colab.research.google.com/assets/colab-badge.svg\" alt=\"Open In Colab\"/></a>"
      ]
    },
    {
      "cell_type": "code",
      "execution_count": null,
      "metadata": {
        "id": "cUi45yaskGQs",
        "colab": {
          "base_uri": "https://localhost:8080/",
          "height": 90
        },
        "outputId": "b4197ac8-693e-41e8-85ab-05397d61fcb6"
      },
      "outputs": [
        {
          "output_type": "display_data",
          "data": {
            "text/plain": [
              "<IPython.core.display.HTML object>"
            ],
            "text/html": [
              "\n",
              "     <input type=\"file\" id=\"files-8cdd0c61-ee02-47a5-97e3-0d16ebea27c1\" name=\"files[]\" multiple disabled\n",
              "        style=\"border:none\" />\n",
              "     <output id=\"result-8cdd0c61-ee02-47a5-97e3-0d16ebea27c1\">\n",
              "      Upload widget is only available when the cell has been executed in the\n",
              "      current browser session. Please rerun this cell to enable.\n",
              "      </output>\n",
              "      <script>// Copyright 2017 Google LLC\n",
              "//\n",
              "// Licensed under the Apache License, Version 2.0 (the \"License\");\n",
              "// you may not use this file except in compliance with the License.\n",
              "// You may obtain a copy of the License at\n",
              "//\n",
              "//      http://www.apache.org/licenses/LICENSE-2.0\n",
              "//\n",
              "// Unless required by applicable law or agreed to in writing, software\n",
              "// distributed under the License is distributed on an \"AS IS\" BASIS,\n",
              "// WITHOUT WARRANTIES OR CONDITIONS OF ANY KIND, either express or implied.\n",
              "// See the License for the specific language governing permissions and\n",
              "// limitations under the License.\n",
              "\n",
              "/**\n",
              " * @fileoverview Helpers for google.colab Python module.\n",
              " */\n",
              "(function(scope) {\n",
              "function span(text, styleAttributes = {}) {\n",
              "  const element = document.createElement('span');\n",
              "  element.textContent = text;\n",
              "  for (const key of Object.keys(styleAttributes)) {\n",
              "    element.style[key] = styleAttributes[key];\n",
              "  }\n",
              "  return element;\n",
              "}\n",
              "\n",
              "// Max number of bytes which will be uploaded at a time.\n",
              "const MAX_PAYLOAD_SIZE = 100 * 1024;\n",
              "\n",
              "function _uploadFiles(inputId, outputId) {\n",
              "  const steps = uploadFilesStep(inputId, outputId);\n",
              "  const outputElement = document.getElementById(outputId);\n",
              "  // Cache steps on the outputElement to make it available for the next call\n",
              "  // to uploadFilesContinue from Python.\n",
              "  outputElement.steps = steps;\n",
              "\n",
              "  return _uploadFilesContinue(outputId);\n",
              "}\n",
              "\n",
              "// This is roughly an async generator (not supported in the browser yet),\n",
              "// where there are multiple asynchronous steps and the Python side is going\n",
              "// to poll for completion of each step.\n",
              "// This uses a Promise to block the python side on completion of each step,\n",
              "// then passes the result of the previous step as the input to the next step.\n",
              "function _uploadFilesContinue(outputId) {\n",
              "  const outputElement = document.getElementById(outputId);\n",
              "  const steps = outputElement.steps;\n",
              "\n",
              "  const next = steps.next(outputElement.lastPromiseValue);\n",
              "  return Promise.resolve(next.value.promise).then((value) => {\n",
              "    // Cache the last promise value to make it available to the next\n",
              "    // step of the generator.\n",
              "    outputElement.lastPromiseValue = value;\n",
              "    return next.value.response;\n",
              "  });\n",
              "}\n",
              "\n",
              "/**\n",
              " * Generator function which is called between each async step of the upload\n",
              " * process.\n",
              " * @param {string} inputId Element ID of the input file picker element.\n",
              " * @param {string} outputId Element ID of the output display.\n",
              " * @return {!Iterable<!Object>} Iterable of next steps.\n",
              " */\n",
              "function* uploadFilesStep(inputId, outputId) {\n",
              "  const inputElement = document.getElementById(inputId);\n",
              "  inputElement.disabled = false;\n",
              "\n",
              "  const outputElement = document.getElementById(outputId);\n",
              "  outputElement.innerHTML = '';\n",
              "\n",
              "  const pickedPromise = new Promise((resolve) => {\n",
              "    inputElement.addEventListener('change', (e) => {\n",
              "      resolve(e.target.files);\n",
              "    });\n",
              "  });\n",
              "\n",
              "  const cancel = document.createElement('button');\n",
              "  inputElement.parentElement.appendChild(cancel);\n",
              "  cancel.textContent = 'Cancel upload';\n",
              "  const cancelPromise = new Promise((resolve) => {\n",
              "    cancel.onclick = () => {\n",
              "      resolve(null);\n",
              "    };\n",
              "  });\n",
              "\n",
              "  // Wait for the user to pick the files.\n",
              "  const files = yield {\n",
              "    promise: Promise.race([pickedPromise, cancelPromise]),\n",
              "    response: {\n",
              "      action: 'starting',\n",
              "    }\n",
              "  };\n",
              "\n",
              "  cancel.remove();\n",
              "\n",
              "  // Disable the input element since further picks are not allowed.\n",
              "  inputElement.disabled = true;\n",
              "\n",
              "  if (!files) {\n",
              "    return {\n",
              "      response: {\n",
              "        action: 'complete',\n",
              "      }\n",
              "    };\n",
              "  }\n",
              "\n",
              "  for (const file of files) {\n",
              "    const li = document.createElement('li');\n",
              "    li.append(span(file.name, {fontWeight: 'bold'}));\n",
              "    li.append(span(\n",
              "        `(${file.type || 'n/a'}) - ${file.size} bytes, ` +\n",
              "        `last modified: ${\n",
              "            file.lastModifiedDate ? file.lastModifiedDate.toLocaleDateString() :\n",
              "                                    'n/a'} - `));\n",
              "    const percent = span('0% done');\n",
              "    li.appendChild(percent);\n",
              "\n",
              "    outputElement.appendChild(li);\n",
              "\n",
              "    const fileDataPromise = new Promise((resolve) => {\n",
              "      const reader = new FileReader();\n",
              "      reader.onload = (e) => {\n",
              "        resolve(e.target.result);\n",
              "      };\n",
              "      reader.readAsArrayBuffer(file);\n",
              "    });\n",
              "    // Wait for the data to be ready.\n",
              "    let fileData = yield {\n",
              "      promise: fileDataPromise,\n",
              "      response: {\n",
              "        action: 'continue',\n",
              "      }\n",
              "    };\n",
              "\n",
              "    // Use a chunked sending to avoid message size limits. See b/62115660.\n",
              "    let position = 0;\n",
              "    do {\n",
              "      const length = Math.min(fileData.byteLength - position, MAX_PAYLOAD_SIZE);\n",
              "      const chunk = new Uint8Array(fileData, position, length);\n",
              "      position += length;\n",
              "\n",
              "      const base64 = btoa(String.fromCharCode.apply(null, chunk));\n",
              "      yield {\n",
              "        response: {\n",
              "          action: 'append',\n",
              "          file: file.name,\n",
              "          data: base64,\n",
              "        },\n",
              "      };\n",
              "\n",
              "      let percentDone = fileData.byteLength === 0 ?\n",
              "          100 :\n",
              "          Math.round((position / fileData.byteLength) * 100);\n",
              "      percent.textContent = `${percentDone}% done`;\n",
              "\n",
              "    } while (position < fileData.byteLength);\n",
              "  }\n",
              "\n",
              "  // All done.\n",
              "  yield {\n",
              "    response: {\n",
              "      action: 'complete',\n",
              "    }\n",
              "  };\n",
              "}\n",
              "\n",
              "scope.google = scope.google || {};\n",
              "scope.google.colab = scope.google.colab || {};\n",
              "scope.google.colab._files = {\n",
              "  _uploadFiles,\n",
              "  _uploadFilesContinue,\n",
              "};\n",
              "})(self);\n",
              "</script> "
            ]
          },
          "metadata": {}
        },
        {
          "output_type": "stream",
          "name": "stdout",
          "text": [
            "Saving kaggle.json to kaggle.json\n"
          ]
        },
        {
          "output_type": "execute_result",
          "data": {
            "text/plain": [
              "{'kaggle.json': b'{\"username\":\"philipafriyie\",\"key\":\"73381d818f4b52908548d76927d50c22\"}'}"
            ]
          },
          "metadata": {},
          "execution_count": 4
        }
      ],
      "source": [
        "! pip install -q kaggle\n",
        "from google.colab import files\n",
        "#upload kaggle.json file\n",
        "files.upload()"
      ]
    },
    {
      "cell_type": "code",
      "source": [
        "import os\n",
        "#assign the root path of our dataset from kaggle\n",
        "os.environ[\"KAGGLE_CONFIG_DIR\"] = \"/content\""
      ],
      "metadata": {
        "id": "L1Y6iwLWEnha"
      },
      "execution_count": null,
      "outputs": []
    },
    {
      "cell_type": "code",
      "source": [
        "#downloading kaggle datasets\n",
        "!kaggle datasets download -d thomasnibb/image-classification-covid19-xray"
      ],
      "metadata": {
        "colab": {
          "base_uri": "https://localhost:8080/"
        },
        "id": "JmnzeKmfEr34",
        "outputId": "6498958a-7dd9-4965-bca5-0a909c13d165"
      },
      "execution_count": null,
      "outputs": [
        {
          "output_type": "stream",
          "name": "stdout",
          "text": [
            "Warning: Your Kaggle API key is readable by other users on this system! To fix this, you can run 'chmod 600 /content/kaggle.json'\n",
            "Downloading image-classification-covid19-xray.zip to /content\n",
            " 95% 27.0M/28.3M [00:02<00:00, 22.0MB/s]\n",
            "100% 28.3M/28.3M [00:02<00:00, 12.3MB/s]\n"
          ]
        }
      ]
    },
    {
      "cell_type": "code",
      "source": [
        "#unzipping datasets to the MLCOVID/Train folder\n",
        "!mkdir -p MLCOVID/Train\n",
        "!unzip \\image-classification-covid19-xray.zip -d \\MLCOVID/Train"
      ],
      "metadata": {
        "id": "8QIuc1YEF0Sz"
      },
      "execution_count": null,
      "outputs": []
    },
    {
      "cell_type": "code",
      "source": [
        "TARGET_VAL_COVID_DIR = \"/content/MLCOVID/Val/Covid\"\n",
        "!mkdir -p \"$TARGET_VAL_COVID_DIR\"\n",
        "\n",
        "TARGET_VAL_NORMAL_DIR = \"/content/MLCOVID/Val/Normal\"\n",
        "!mkdir -p \"$TARGET_VAL_NORMAL_DIR\""
      ],
      "metadata": {
        "id": "0iPio67yEvL5"
      },
      "execution_count": null,
      "outputs": []
    },
    {
      "cell_type": "code",
      "source": [
        "#copying images to the Val directory\n",
        "import shutil\n",
        "imageSource = \"/content/MLCOVID/Train/COVID19/\"\n",
        "imageDest = \"/content/MLCOVID/Val/Covid\"\n",
        "\n",
        "for filename in os.listdir(imageSource):\n",
        "    sourceImage = os.path.join(imageSource, filename)\n",
        "    destImage = os.path.join(imageDest, filename)\n",
        "    shutil.copy(sourceImage, destImage)\n",
        "\n",
        "print(\"Images copied successfully.\")"
      ],
      "metadata": {
        "colab": {
          "base_uri": "https://localhost:8080/"
        },
        "id": "6gzla6-lExIh",
        "outputId": "dbb470e8-a93a-4ccb-cb13-c8b36bc24191"
      },
      "execution_count": null,
      "outputs": [
        {
          "output_type": "stream",
          "name": "stdout",
          "text": [
            "Images copied successfully.\n"
          ]
        }
      ]
    },
    {
      "cell_type": "code",
      "source": [
        "#copying images to the Val directory\n",
        "import shutil\n",
        "imageSource = \"/content/MLCOVID/Train/Normal/\"\n",
        "imageDest = \"/content/MLCOVID/Val/Normal\"\n",
        "for filename in os.listdir(imageSource):\n",
        "    sourceImage = os.path.join(imageSource, filename)\n",
        "    destImage = os.path.join(imageDest, filename)\n",
        "    shutil.copy(sourceImage, destImage)\n",
        "\n",
        "print(\"Images copied successfully.\")"
      ],
      "metadata": {
        "colab": {
          "base_uri": "https://localhost:8080/"
        },
        "id": "hkGyx8HEE3Cp",
        "outputId": "6758cfc6-111c-441b-e855-c0d8ce89e60f"
      },
      "execution_count": null,
      "outputs": [
        {
          "output_type": "stream",
          "name": "stdout",
          "text": [
            "Images copied successfully.\n"
          ]
        }
      ]
    },
    {
      "cell_type": "code",
      "source": [
        "TRAIN_PATH = \"/content/MLCOVID/\"\n",
        "VAL_PATH = \"/content/MLCOVID/Val/\""
      ],
      "metadata": {
        "id": "sFvJT85Ekanh"
      },
      "execution_count": null,
      "outputs": []
    },
    {
      "cell_type": "code",
      "source": [
        "import numpy as np\n",
        "import matplotlib.pyplot as plt\n",
        "import keras\n",
        "from keras.layers import *\n",
        "from keras.models import *\n",
        "from keras.preprocessing import image\n"
      ],
      "metadata": {
        "id": "I5k90MxhkkPw"
      },
      "execution_count": null,
      "outputs": []
    },
    {
      "cell_type": "code",
      "source": [
        "model = Sequential() #creating a sequential model\n",
        "\n",
        "\n",
        "model.add(Conv2D(32, kernel_size=(3,3),activation='relu',input_shape=(224,224,3)))\n",
        "model.add(Conv2D(64,(3,3),activation='relu'))\n",
        "model.add(MaxPooling2D(pool_size=(2,2)))\n",
        "model.add(Dropout(0.25))\n",
        "\n",
        "model.add(Conv2D(64,(3,3),activation='relu'))\n",
        "model.add(MaxPooling2D(pool_size=(2,2)))\n",
        "model.add(Dropout(0.25))\n",
        "\n",
        "model.add(Flatten())\n",
        "model.add(Dense(64,activation='relu'))\n",
        "model.add(Dropout(0.5))\n",
        "model.add(Dense(1,activation='sigmoid'))\n",
        "\n",
        "model.compile(loss=keras.losses.binary_crossentropy, optimizer='adam', metrics=['accuracy'])\n",
        "\n"
      ],
      "metadata": {
        "id": "evmE-E03ORbD"
      },
      "execution_count": null,
      "outputs": []
    },
    {
      "cell_type": "code",
      "source": [
        "model.summary()"
      ],
      "metadata": {
        "id": "971jzfermwnh",
        "colab": {
          "base_uri": "https://localhost:8080/"
        },
        "outputId": "18ab84ca-925a-4013-d1e5-1a55e4abef10"
      },
      "execution_count": null,
      "outputs": [
        {
          "output_type": "stream",
          "name": "stdout",
          "text": [
            "Model: \"sequential\"\n",
            "_________________________________________________________________\n",
            " Layer (type)                Output Shape              Param #   \n",
            "=================================================================\n",
            " conv2d (Conv2D)             (None, 222, 222, 32)      896       \n",
            "                                                                 \n",
            " conv2d_1 (Conv2D)           (None, 220, 220, 64)      18496     \n",
            "                                                                 \n",
            " max_pooling2d (MaxPooling2  (None, 110, 110, 64)      0         \n",
            " D)                                                              \n",
            "                                                                 \n",
            " dropout (Dropout)           (None, 110, 110, 64)      0         \n",
            "                                                                 \n",
            " conv2d_2 (Conv2D)           (None, 108, 108, 64)      36928     \n",
            "                                                                 \n",
            " max_pooling2d_1 (MaxPoolin  (None, 54, 54, 64)        0         \n",
            " g2D)                                                            \n",
            "                                                                 \n",
            " dropout_1 (Dropout)         (None, 54, 54, 64)        0         \n",
            "                                                                 \n",
            " flatten (Flatten)           (None, 186624)            0         \n",
            "                                                                 \n",
            " dense (Dense)               (None, 64)                11944000  \n",
            "                                                                 \n",
            " dropout_2 (Dropout)         (None, 64)                0         \n",
            "                                                                 \n",
            " dense_1 (Dense)             (None, 1)                 65        \n",
            "                                                                 \n",
            "=================================================================\n",
            "Total params: 12000385 (45.78 MB)\n",
            "Trainable params: 12000385 (45.78 MB)\n",
            "Non-trainable params: 0 (0.00 Byte)\n",
            "_________________________________________________________________\n"
          ]
        }
      ]
    },
    {
      "cell_type": "code",
      "source": [
        "trainDatagen = image.ImageDataGenerator(\n",
        "    rescale = 1./255, #rescale the image to bring it within the range [0,1]\n",
        "    shear_range = 0.2, #tilt the image in a particular direction\n",
        "    zoom_range = 0.2, #zoom in or out of the image\n",
        "    horizontal_flip = True, #flips image from left to right to increase diversity\n",
        ")\n",
        "\n",
        "testDataset = image.ImageDataGenerator(rescale=1./255)"
      ],
      "metadata": {
        "id": "EBYXnoq_m2MO"
      },
      "execution_count": null,
      "outputs": []
    },
    {
      "cell_type": "code",
      "source": [
        "trainGenerator = trainDatagen.flow_from_directory(\n",
        "    '/content/MLCOVID/Train/',\n",
        "    target_size = (224,224), #specify dimension for input image resize\n",
        "    batch_size = 32, #number of images to train in a particular batch\n",
        "    class_mode = 'binary' #specifies type of classification problem being worked on (binary classificatio)\n",
        ")"
      ],
      "metadata": {
        "id": "XaZDLxl9nj1h",
        "colab": {
          "base_uri": "https://localhost:8080/"
        },
        "outputId": "c1cad414-1cd4-4101-bf62-f1c98285890d"
      },
      "execution_count": null,
      "outputs": [
        {
          "output_type": "stream",
          "name": "stdout",
          "text": [
            "Found 60 images belonging to 2 classes.\n"
          ]
        }
      ]
    },
    {
      "cell_type": "code",
      "source": [
        "trainGenerator.class_indices"
      ],
      "metadata": {
        "id": "NE3UFSJJoR9B",
        "colab": {
          "base_uri": "https://localhost:8080/"
        },
        "outputId": "bfc2059d-e3da-458d-8793-a617cfbb33e3"
      },
      "execution_count": null,
      "outputs": [
        {
          "output_type": "execute_result",
          "data": {
            "text/plain": [
              "{'COVID19': 0, 'Normal': 1}"
            ]
          },
          "metadata": {},
          "execution_count": 22
        }
      ]
    },
    {
      "cell_type": "code",
      "source": [
        "validationGenerator = testDataset.flow_from_directory(\n",
        "    '/content/MLCOVID/Val',\n",
        "    target_size = (224,224),\n",
        "    batch_size = 32,\n",
        "    class_mode = 'binary'\n",
        ")"
      ],
      "metadata": {
        "id": "Ta7W2kiaocG3",
        "colab": {
          "base_uri": "https://localhost:8080/"
        },
        "outputId": "9a6c4d03-7c70-408e-dd65-fdbd857be814"
      },
      "execution_count": null,
      "outputs": [
        {
          "output_type": "stream",
          "name": "stdout",
          "text": [
            "Found 60 images belonging to 2 classes.\n"
          ]
        }
      ]
    },
    {
      "cell_type": "code",
      "source": [
        "mlHistory = model.fit(\n",
        "    trainGenerator,\n",
        "    steps_per_epoch = 1, #num of bathces to process from training data before moving next training epoch(in this case, batch size is 32)\n",
        "    validation_data= validationGenerator, #data generator for validation data\n",
        "    validation_steps = 2, #number of batched to process from val data during each val epoch\n",
        "    epochs = 10 #how many times to iterate the entire dataset\n",
        ")"
      ],
      "metadata": {
        "id": "ob8vcJK0o4vB",
        "colab": {
          "base_uri": "https://localhost:8080/"
        },
        "outputId": "c979105b-1e9d-43fc-b1cd-048df62162b3"
      },
      "execution_count": null,
      "outputs": [
        {
          "output_type": "stream",
          "name": "stdout",
          "text": [
            "Epoch 1/10\n",
            "1/1 [==============================] - 7s 7s/step - loss: 0.3433 - accuracy: 0.8929 - val_loss: 0.2074 - val_accuracy: 0.9333\n",
            "Epoch 2/10\n",
            "1/1 [==============================] - 6s 6s/step - loss: 0.3299 - accuracy: 0.7500 - val_loss: 0.2152 - val_accuracy: 0.9333\n",
            "Epoch 3/10\n",
            "1/1 [==============================] - 13s 13s/step - loss: 0.4192 - accuracy: 0.8571 - val_loss: 0.3200 - val_accuracy: 0.9000\n",
            "Epoch 4/10\n",
            "1/1 [==============================] - 7s 7s/step - loss: 0.1594 - accuracy: 0.9286 - val_loss: 0.2667 - val_accuracy: 0.9167\n",
            "Epoch 5/10\n",
            "1/1 [==============================] - 5s 5s/step - loss: 0.2530 - accuracy: 0.8929 - val_loss: 0.3564 - val_accuracy: 0.8500\n",
            "Epoch 6/10\n",
            "1/1 [==============================] - 7s 7s/step - loss: 0.2743 - accuracy: 0.8750 - val_loss: 0.3001 - val_accuracy: 0.8667\n",
            "Epoch 7/10\n",
            "1/1 [==============================] - 7s 7s/step - loss: 0.2875 - accuracy: 0.9062 - val_loss: 0.2403 - val_accuracy: 0.9333\n",
            "Epoch 8/10\n",
            "1/1 [==============================] - 5s 5s/step - loss: 0.2354 - accuracy: 0.8929 - val_loss: 0.3070 - val_accuracy: 0.8667\n",
            "Epoch 9/10\n",
            "1/1 [==============================] - 7s 7s/step - loss: 0.2620 - accuracy: 0.8929 - val_loss: 0.3151 - val_accuracy: 0.8667\n",
            "Epoch 10/10\n",
            "1/1 [==============================] - 5s 5s/step - loss: 0.1728 - accuracy: 0.9688 - val_loss: 0.2097 - val_accuracy: 0.9333\n"
          ]
        }
      ]
    },
    {
      "cell_type": "code",
      "source": [
        "model.save(\"mymlmodel\")"
      ],
      "metadata": {
        "id": "SgMvN9t3sTEP"
      },
      "execution_count": null,
      "outputs": []
    },
    {
      "cell_type": "code",
      "source": [
        "model.evaluate(trainGenerator) #evaluate performance of trained ML model on a given dataset"
      ],
      "metadata": {
        "id": "B8hKDA18sjmZ",
        "colab": {
          "base_uri": "https://localhost:8080/"
        },
        "outputId": "7e32fef9-3fc8-4c38-fb39-b9521aaaf148"
      },
      "execution_count": null,
      "outputs": [
        {
          "output_type": "stream",
          "name": "stdout",
          "text": [
            "2/2 [==============================] - 3s 2s/step - loss: 0.2327 - accuracy: 0.9167\n"
          ]
        },
        {
          "output_type": "execute_result",
          "data": {
            "text/plain": [
              "[0.23271559178829193, 0.9166666865348816]"
            ]
          },
          "metadata": {},
          "execution_count": 31
        }
      ]
    },
    {
      "cell_type": "code",
      "source": [
        "model.evaluate(validationGenerator) #evaluate performance of trained ML model using val dataset"
      ],
      "metadata": {
        "id": "mG9C3QGUs0Nw",
        "colab": {
          "base_uri": "https://localhost:8080/"
        },
        "outputId": "be247fa7-dab7-439a-e56c-001be17c049c"
      },
      "execution_count": null,
      "outputs": [
        {
          "output_type": "stream",
          "name": "stdout",
          "text": [
            "2/2 [==============================] - 4s 1s/step - loss: 0.2097 - accuracy: 0.9333\n"
          ]
        },
        {
          "output_type": "execute_result",
          "data": {
            "text/plain": [
              "[0.20969848334789276, 0.9333333373069763]"
            ]
          },
          "metadata": {},
          "execution_count": 32
        }
      ]
    },
    {
      "cell_type": "code",
      "source": [
        "model = load_model('mymlmodel') #loading our saved model for evaluation"
      ],
      "metadata": {
        "id": "urls_YOKtrP2"
      },
      "execution_count": null,
      "outputs": []
    },
    {
      "cell_type": "code",
      "source": [
        "import os\n"
      ],
      "metadata": {
        "id": "t-VaMnz7tzUn"
      },
      "execution_count": null,
      "outputs": []
    },
    {
      "cell_type": "code",
      "source": [
        "trainGenerator.class_indices"
      ],
      "metadata": {
        "id": "OmE7Y8fDt17f",
        "colab": {
          "base_uri": "https://localhost:8080/"
        },
        "outputId": "69084a36-5855-4472-f688-fe8facf8573f"
      },
      "execution_count": null,
      "outputs": [
        {
          "output_type": "execute_result",
          "data": {
            "text/plain": [
              "{'COVID19': 0, 'Normal': 1}"
            ]
          },
          "metadata": {},
          "execution_count": 35
        }
      ]
    },
    {
      "cell_type": "code",
      "source": [
        "y_actual = [] #array to hold or actual labels\n",
        "y_test = [] #hold our test labels"
      ],
      "metadata": {
        "id": "7aQsZ8aet6uv"
      },
      "execution_count": null,
      "outputs": []
    },
    {
      "cell_type": "code",
      "source": [
        "for i in os.listdir(\"/content/MLCOVID/Val/Normal\"):\n",
        "  img  = image.load_img(\"/content/MLCOVID/Val/Normal/\"+i, target_size=(224,224)) #load image using keras\n",
        "  img = image.img_to_array(img) #convert image to numpy aray\n",
        "  img = np.expand_dims(img, axis=0) #expand dimension for batch processing\n",
        "  #p = model.predict_classes(img)\n",
        "  p = (model.predict(img) > 0.5).astype(\"int32\") #preict the class of the image\n",
        "\n",
        "  #collect predicted labels and actual labels for later evaluation\n",
        "  y_test.append(p[0,0]) #apend  binary prediction p(0,0) to y_test array\n",
        "  y_actual.append(1) #append the value 1 to y_actual"
      ],
      "metadata": {
        "id": "XCnIRe0uuC8i",
        "colab": {
          "base_uri": "https://localhost:8080/"
        },
        "outputId": "142fc00a-15a6-4049-82b6-819a1ffeb5c1"
      },
      "execution_count": null,
      "outputs": [
        {
          "output_type": "stream",
          "name": "stdout",
          "text": [
            "1/1 [==============================] - 0s 265ms/step\n",
            "1/1 [==============================] - 0s 25ms/step\n",
            "1/1 [==============================] - 0s 19ms/step\n",
            "1/1 [==============================] - 0s 19ms/step\n",
            "1/1 [==============================] - 0s 21ms/step\n",
            "1/1 [==============================] - 0s 21ms/step\n",
            "1/1 [==============================] - 0s 18ms/step\n",
            "1/1 [==============================] - 0s 19ms/step\n",
            "1/1 [==============================] - 0s 20ms/step\n",
            "1/1 [==============================] - 0s 24ms/step\n",
            "1/1 [==============================] - 0s 22ms/step\n",
            "1/1 [==============================] - 0s 23ms/step\n",
            "1/1 [==============================] - 0s 18ms/step\n",
            "1/1 [==============================] - 0s 19ms/step\n",
            "1/1 [==============================] - 0s 22ms/step\n",
            "1/1 [==============================] - 0s 18ms/step\n",
            "1/1 [==============================] - 0s 28ms/step\n",
            "1/1 [==============================] - 0s 28ms/step\n",
            "1/1 [==============================] - 0s 30ms/step\n",
            "1/1 [==============================] - 0s 31ms/step\n",
            "1/1 [==============================] - 0s 31ms/step\n",
            "1/1 [==============================] - 0s 38ms/step\n",
            "1/1 [==============================] - 0s 29ms/step\n",
            "1/1 [==============================] - 0s 32ms/step\n",
            "1/1 [==============================] - 0s 26ms/step\n",
            "1/1 [==============================] - 0s 27ms/step\n",
            "1/1 [==============================] - 0s 39ms/step\n",
            "1/1 [==============================] - 0s 31ms/step\n",
            "1/1 [==============================] - 0s 28ms/step\n",
            "1/1 [==============================] - 0s 34ms/step\n"
          ]
        }
      ]
    },
    {
      "cell_type": "code",
      "source": [
        "for i in os.listdir(\"/content/MLCOVID/Val/Covid/\"):\n",
        "  img  = image.load_img(\"/content/MLCOVID/Val/Covid/\"+i, target_size=(224,224))\n",
        "  img = image.img_to_array(img)\n",
        "  img = np.expand_dims(img, axis=0)\n",
        "  #p = model.predict_classes(img)\n",
        "  p = (model.predict(img) > 0.5).astype(\"int32\")\n",
        "  y_test.append(p[0,0])\n",
        "  y_actual.append(0)"
      ],
      "metadata": {
        "id": "irOPfl6Yu_lc",
        "colab": {
          "base_uri": "https://localhost:8080/"
        },
        "outputId": "ba8ddc0c-2e22-4fc7-d8b9-4d3ef0ec99b2"
      },
      "execution_count": null,
      "outputs": [
        {
          "output_type": "stream",
          "name": "stdout",
          "text": [
            "1/1 [==============================] - 0s 20ms/step\n",
            "1/1 [==============================] - 0s 19ms/step\n",
            "1/1 [==============================] - 0s 18ms/step\n",
            "1/1 [==============================] - 0s 18ms/step\n",
            "1/1 [==============================] - 0s 28ms/step\n",
            "1/1 [==============================] - 0s 24ms/step\n",
            "1/1 [==============================] - 0s 19ms/step\n",
            "1/1 [==============================] - 0s 18ms/step\n",
            "1/1 [==============================] - 0s 19ms/step\n",
            "1/1 [==============================] - 0s 21ms/step\n",
            "1/1 [==============================] - 0s 23ms/step\n",
            "1/1 [==============================] - 0s 22ms/step\n",
            "1/1 [==============================] - 0s 23ms/step\n",
            "1/1 [==============================] - 0s 18ms/step\n",
            "1/1 [==============================] - 0s 22ms/step\n",
            "1/1 [==============================] - 0s 23ms/step\n",
            "1/1 [==============================] - 0s 18ms/step\n",
            "1/1 [==============================] - 0s 22ms/step\n",
            "1/1 [==============================] - 0s 17ms/step\n",
            "1/1 [==============================] - 0s 20ms/step\n",
            "1/1 [==============================] - 0s 19ms/step\n",
            "1/1 [==============================] - 0s 23ms/step\n",
            "1/1 [==============================] - 0s 25ms/step\n",
            "1/1 [==============================] - 0s 24ms/step\n",
            "1/1 [==============================] - 0s 23ms/step\n",
            "1/1 [==============================] - 0s 18ms/step\n",
            "1/1 [==============================] - 0s 22ms/step\n",
            "1/1 [==============================] - 0s 20ms/step\n",
            "1/1 [==============================] - 0s 20ms/step\n",
            "1/1 [==============================] - 0s 19ms/step\n"
          ]
        }
      ]
    },
    {
      "cell_type": "code",
      "source": [
        "y_actual = np.array(y_actual)\n",
        "y_test = np.array(y_test)"
      ],
      "metadata": {
        "id": "xqHyydT9vMaJ"
      },
      "execution_count": null,
      "outputs": []
    },
    {
      "cell_type": "code",
      "source": [
        "from sklearn.metrics import confusion_matrix"
      ],
      "metadata": {
        "id": "Jb85yPZ6vWpv"
      },
      "execution_count": null,
      "outputs": []
    },
    {
      "cell_type": "code",
      "source": [
        "cm = confusion_matrix(y_actual, y_test)"
      ],
      "metadata": {
        "id": "DLyk-06Cvc0K"
      },
      "execution_count": null,
      "outputs": []
    },
    {
      "cell_type": "code",
      "source": [
        "import seaborn as sns"
      ],
      "metadata": {
        "id": "odxtptMivmb_"
      },
      "execution_count": null,
      "outputs": []
    },
    {
      "cell_type": "code",
      "source": [
        "sns.heatmap(cm, cmap=\"plasma\", annot=True)"
      ],
      "metadata": {
        "id": "mDcy7FU-vp8W",
        "colab": {
          "base_uri": "https://localhost:8080/",
          "height": 447
        },
        "outputId": "033bb37f-5c37-4285-ad69-8aa75cc08447"
      },
      "execution_count": null,
      "outputs": [
        {
          "output_type": "execute_result",
          "data": {
            "text/plain": [
              "<Axes: >"
            ]
          },
          "metadata": {},
          "execution_count": 44
        },
        {
          "output_type": "display_data",
          "data": {
            "text/plain": [
              "<Figure size 640x480 with 2 Axes>"
            ],
            "image/png": "[encoded data removed]"
          },
          "metadata": {}
        }
      ]
    }
  ]
}